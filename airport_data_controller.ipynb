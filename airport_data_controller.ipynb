# Library Imports
import os
from tkinter import *
from tkinter import ttk, messagebox, filedialog
from tkinter.ttk import Treeview

import pandas as pd
import numpy as np
import matplotlib.pyplot as plt
from PIL import Image, ImageTk
from matplotlib.backends._backend_tk import NavigationToolbar2Tk
from matplotlib.backends.backend_tkagg import FigureCanvasTkAgg
from pymongo import MongoClient
from pymongo.errors import ConnectionFailure

"""
University of York: Advanced Programming summative assignment.

Airport data Manipulation:

The client initially wants the application to perform the following actions on the data:
1.	Outputs should not include any data from airports that have a ‘type’ ‘closed’
2.	The ‘type’ column contains information of the type of airport. Extract this out into a new column, one for each category of airport, for:
    a.	all UK(GB) airports, that are , large_airport, medium_airport, small airport
    b.	join each category, large_airport, medium_airport, small airport to the communication frequencies ‘ frequency_mhz’ that the airport uses for communication ensuring that each airport in all categories is correctly matched with its communication frequencies.
3.	The client initially needs information to generate the following and output the results using appropriate representation:
    a.	Produce the mean, mode and median for the ‘frequency_mhz’
        i.	For large_airport
        ii.	For frequencies more than 100 mhz
4.	Produce a suitable graph that display the communication frequencies used by ‘small_airport’ You may need to consider how you group this data to make visualisation feasible
5.	Determine if there is any significant correlation between the communication frequencies used by the 3 different categories of airport. ‘Are some frequencies used more than others?’. You will need to select an appropriate visualisation to demonstrate this.

•	The GUI interface provides appropriate feedback to confirm or deny a user’s actions
•	The application manages internal and user-generated errors
"""

# GUI
# Parent window creation
root = Tk()
root.title("Airport Data Manipulation")
root.geometry("500x500")
root.configure(background="green")
root.pack_propagate(False)

# Notebook function is used to create tabs
data_notebook = ttk.Notebook(root)
data_notebook.pack(fill="both", expand=1)

# These frames will hold the airports' data, airport-frequencies data and the results.
airports_frame = Frame(data_notebook, width=500, height=400, bg="white")
frequencies_frame = Frame(data_notebook, width=500, height=400, bg="white")
results_frame = Frame(data_notebook, width=500, height=400, bg="white")

# Frames will fill the area they are in
airports_frame.pack(fill="both", expand=1)
frequencies_frame.pack(fill="both", expand=1)
results_frame.pack(fill="both", expand=1)

# Tab creation
data_notebook.add(airports_frame, text="Airports")
data_notebook.add(frequencies_frame, text="Frequency")
data_notebook.add(results_frame, text="Results")

# File upload and viewing area frame
file_frame = LabelFrame(root, text="Selected File")
file_frame.place(height=100, width=500, rely=0.8)
label_file = Label(file_frame, text="no selection made")
label_file.place(relx=0, rely=0)

# Tree widget creation
tree_air = Treeview(airports_frame)
tree_freq = Treeview(frequencies_frame)
tree_res = Treeview(results_frame)

tree_air.pack(expand=1)
tree_freq.pack(expand=1)
tree_res.pack(expand=1)

# Create scrollbars for tree views

# Horizontal x-axis scrollbars
x_scrollbar_air = Scrollbar(airports_frame, orient="horizontal", command=tree_air.xview)
x_scrollbar_freq = Scrollbar(frequencies_frame, orient="horizontal", command=tree_freq.xview)
x_scrollbar_res = Scrollbar(results_frame, orient="horizontal", command=tree_res.xview)

# Vertical y-axis scrollbars
y_scrollbar_air = Scrollbar(airports_frame, orient="vertical", command=tree_air.yview)
y_scrollbar_freq = Scrollbar(frequencies_frame, orient="vertical", command=tree_freq.yview)
y_scrollbar_res = Scrollbar(results_frame, orient="vertical", command=tree_res.yview)

# Assign x-axis scrollbars to tree views
tree_air.configure(xscrollcommand=x_scrollbar_air.set)
tree_freq.configure(xscrollcommand=x_scrollbar_freq.set)
tree_res.configure(xscrollcommand=x_scrollbar_res.set)

# Assign y-axis scrollbars to tree views
tree_air.configure(yscrollcommand=y_scrollbar_air.set)
tree_freq.configure(yscrollcommand=y_scrollbar_freq.set)
tree_res.configure(yscrollcommand=y_scrollbar_res.set)

# x-axis scroll bar fills the full frame
x_scrollbar_air.pack(side="bottom", fill="x")
x_scrollbar_freq.pack(side="bottom", fill="x")
x_scrollbar_res.pack(side="bottom", fill="x")

# y-axis scroll bar fills the full frame
y_scrollbar_air.pack(side="right", fill="y")
y_scrollbar_freq.pack(side="right", fill="y")
y_scrollbar_res.pack(side="right", fill="y")  # From here

# Menu to be added to the main bar of the OS
menu = Menu(root)
root.config(menu=menu)

# Add menu for calculations
calc_select = Menu(menu, tearoff=0)
menu.add_cascade(label="Calculate", menu=calc_select)

# Drop-down created to allow user to choose which visualisation they would like
graph_items = Menu(menu, tearoff=0)
calculations_items = Menu(menu, tearoff=0)

calc_select.add_cascade(label="calculations", state="disable", menu=calculations_items)
calc_select.add_cascade(label="Graphs", state="disable", menu=graph_items)


class DataManipulation:

    def __init__(self):
        self.df_large_results = None
        self.df_medium_results = None
        self.df_results = None
        self.df_small_results = None
        self.df_mode_freq = None
        self.df_median_freq = None
        self.df_calculations = None
        self.df_frequencies = None
        self.df_airports = None
        self.df_mean_freq = None

    def _init_(self, user_input1, user_input2, user_input3, df_calculations, df_airports, df_frequencies):
        self.user_input1 = ""
        self.user_input2 = ""
        self.user_input3 = ""
        self.df_calculations = pd.Dataframe()
        self.df_airports = pd.DataFrame()
        self.df_frequencies = pd.Dataframe()

    def import_airports(self):
        # Filename from user selection
        file = get_file_from_user()
        # Reads selected file
        self.df_airports = read_file(file)

        # Display the read data in a tree-view widget
        display_tree(self.df_airports, tree_air)

        info(f"{file} uploaded")

        # Clean data according to requirements
        d1.clean_airports_data()

        # Save to mongo
        save_to_mongo(self.df_airports, "airports")

    def import_frequencies(self):
        # Filename from user selection
        file = get_file_from_user()

        # Reads selected file
        self.df_frequencies = read_file(file)

        # Display the read data in a tree-view widget
        display_tree(self.df_frequencies, tree_freq)

        info(f"{file} uploaded")

        # Cleans the data
        d1.clean_frequencies_data()

        # Saves the data to mongo database
        save_to_mongo(self.df_frequencies, "frequencies")

        enable_graphs()
        enable_calculations()

    def clean_airports_data(self):
        info("Cleaning data...")
        # Rename ident in airports.csv so that the columns match
        self.df_airports.rename(columns={'ident': 'airport_ident'}, inplace=True)
        # As per requirements, closed airports not considered
        self.df_airports = self.df_airports.drop \
            (self.df_airports[self.df_airports['type'] == 'closed'] \
             .index)
        # As per requirements, only GB airports considered
        self.df_airports = self.df_airports.drop \
            (self.df_airports[self.df_airports['iso_country'] != 'GB'] \
             .index)
        # As per requirements, heliport not considered
        self.df_airports = self.df_airports.drop \
            (self.df_airports[self.df_airports['type'] == 'heliport'] \
             .index)
        # As per requirements, balloonport not considered
        self.df_airports = self.df_airports.drop \
            (self.df_airports[self.df_airports['type'] == 'balloonport'] \
             .index)
        # As per requirements, seaplane_base not considered
        self.df_airports = self.df_airports.drop \
            (self.df_airports[self.df_airports['type'] == 'seaplane_base'] \
             .index)

        self.df_airports = self.df_airports.reset_index(drop=True)

        # Clean data is now shown in the tree view
        display_tree(self.df_airports, tree_air)

        info("Data cleaning successful.")

    def clean_frequencies_data(self):
        info("Cleaning data...")

        # Merge the airports_ident for both files
        self.df_frequencies = self.df_airports.merge(self.df_frequencies, on='airport_ident')

        # Desired order
        self.df_frequencies = self.df_frequencies[['airport_ident', 'frequency_mhz']]

        # Clean data is now shown in the tree view
        display_tree(self.df_frequencies, tree_freq)

        info("Cleaning complete")

    def airports_mongo(self):
        # Import Mongo data
        self.df_airports = d1.import_mongo('airports')

        # Add data to tree-view
        display_tree(self.df_airports, tree_air)
        enable_calculations()
        info(f"Loaded file")

    def frequencies_mongo(self):
        # Import Mongo data
        self.df_frequencies = d1.import_mongo('frequencies')

        # Add data to tree-view
        display_tree(self.df_frequencies, tree_freq)
        enable_graphs()

    def import_mongo(self, collection):
        # Connect to localhost Mongo
        db = connect_to_mongo('localhost', 27017)['airports']

        # Search for the collection that is provided
        search = db[collection].find({}, {'_id': False})

        df = pd.DataFrame(list(search))
        return df

    def mean_score_airports(self, column_name):
        # Produce the mean, mode and median for the ‘frequency_mhz’
        # i. For large_airport
        # ii. For frequencies more than 100 mhz
        self.df_calculations = pd.merge(self.df_airports, self.df_frequencies, on='airport_ident')
        self.df_calculations = self.df_calculations.drop \
            (self.df_calculations[self.df_calculations['type'] == 'medium_airport'] \
             .index)
        self.df_calculations = self.df_calculations.drop \
            (self.df_calculations[self.df_calculations['type'] == 'small_airport'] \
             .index)

        self.df_calculations = self.df_calculations["frequency_mhz"].mean()

        info("Mean frequency for Large Airports is: " + str(self.df_calculations))

    def mean_score_freq(self, column_name):
        # Produce the mean, mode and median for the ‘frequency_mhz’
        # i. For large_airport
        # ii. For frequencies more than 100 mhz

        self.df_calculations = self.df_frequencies

        self.df_mean_freq = self.df_frequencies[~(self.df_frequencies['frequency_mhz'] < 100)]

        self.df_mean_freq = self.df_mean_freq["frequency_mhz"].mean()

        info("Mean of frequencies over 100mhz is: " + str(self.df_mean_freq))

    def median_score_airports(self, column_name):
        # Produce the mean, mode and median for the ‘frequency_mhz’
        # i. For large_airport
        # ii. For frequencies more than 100 mhz
        self.df_calculations = pd.merge(self.df_airports, self.df_frequencies, on='airport_ident')
        self.df_calculations = self.df_calculations.drop \
            (self.df_calculations[self.df_calculations['type'] == 'medium_airport'] \
             .index)
        self.df_calculations = self.df_calculations.drop \
            (self.df_calculations[self.df_calculations['type'] == 'small_airport'] \
             .index)

        self.df_calculations = self.df_calculations["frequency_mhz"].median()

        info("Median frequency for Large Airports is: " + str(self.df_calculations))

    def median_score_freq(self, column_name):
        # Produce the mean, mode and median for the ‘frequency_mhz’
        # i. For large_airport
        # ii. For frequencies more than 100 mhz

        self.df_calculations = self.df_frequencies

        self.df_median_freq = self.df_frequencies[~(self.df_frequencies['frequency_mhz'] < 100)]

        self.df_median_freq = self.df_median_freq["frequency_mhz"].median()

        info("Median of frequencies over 100mhz is: " + str(self.df_median_freq))

    def mode_score_airports(self, column_name):
        # Produce the mean, mode and median for the ‘frequency_mhz’
        # i. For large_airport
        # ii. For frequencies more than 100 mhz
        self.df_calculations = pd.merge(self.df_airports, self.df_frequencies, on='airport_ident')
        self.df_calculations = self.df_calculations.drop \
            (self.df_calculations[self.df_calculations['type'] == 'medium_airport'] \
             .index)
        self.df_calculations = self.df_calculations.drop \
            (self.df_calculations[self.df_calculations['type'] == 'small_airport'] \
             .index)

        self.df_calculations = self.df_calculations["frequency_mhz"].mode()

        info("Mode frequency for Large Airports is: " + str(self.df_calculations))

    def mode_score_freq(self, column_name):
        # Produce the mean, mode and median for the ‘frequency_mhz’
        # i. For large_airport
        # ii. For frequencies more than 100 mhz

        self.df_calculations = self.df_frequencies

        self.df_mode_freq = self.df_frequencies[~(self.df_frequencies['frequency_mhz'] < 100)]

        self.df_mode_freq = self.df_mode_freq["frequency_mhz"].median()

        info("Mode of frequencies over 100mhz is: " + str(self.df_mode_freq))

    def all_airports_against_frequency(self):
        self.df_results = pd.merge(self.df_airports, self.df_frequencies, on='airport_ident')

        self.df_small_results = self.df_results.drop \
            (self.df_results[self.df_results['type'] == 'large_airport'] \
             .index)
        self.df_small_results = self.df_small_results.drop \
            (self.df_small_results[self.df_small_results['type'] == 'medium_airport'] \
             .index)

        self.df_medium_results = self.df_results.drop \
            (self.df_results[self.df_results['type'] == 'large_airport'] \
             .index)
        self.df_medium_results = self.df_medium_results.drop \
            (self.df_medium_results[self.df_medium_results['type'] == 'small_airport'] \
             .index)

        self.df_large_results = self.df_results.drop \
            (self.df_results[self.df_results['type'] == 'small_airport'] \
             .index)
        self.df_large_results = self.df_large_results.drop \
            (self.df_large_results[self.df_large_results['type'] == 'medium_airport'] \
             .index)

        # Adding results to the results tab on the GUI, opening the graph window and specifying what is to be displayed.
        display_tree(self.df_results, tree_res)
        graph_window()
        d1.display_graph_all('frequency_mhz', 'airport_ident', "All Airport types against frequency"
                             , plt.plot)

    def display_graph_all(self, column_y, column_x, title, plot_type):
        # Utilises the data from the previous method to display the data in a plot.
        x1 = self.df_small_results[column_x]
        y1 = self.df_small_results[column_y]
        x2 = self.df_medium_results[column_x]
        y2 = self.df_medium_results[column_y]
        x3 = self.df_large_results[column_x]
        y3 = self.df_large_results[column_y]

        plt.plot(x1, y1, label="small airports", linestyle="-")
        plt.plot(x2, y2, label="medium airports", linestyle=":")
        plt.plot(x3, y3, label="large airports", linestyle="-.")
        plt.title(title, fontsize=18)
        plt.margins(x=0)

    def small_airports_against_frequency(self):
        # "Produce a suitable graph that display the communication frequencies used by
        # ‘small_airport’ You may need to consider how you group this data to make
        # visualisation feasible"

        # This method filters out unnecessary data from frequencies.csv then passes in the necessary information to
        # plot, such as the column names, title and plot type.

        self.df_small_results = pd.merge(self.df_airports, self.df_frequencies, on='airport_ident')
        self.df_small_results = self.df_small_results.drop \
            (self.df_small_results[self.df_small_results['type'] == 'large_airport'] \
             .index)
        self.df_small_results = self.df_small_results.drop \
            (self.df_small_results[self.df_small_results['type'] == 'medium_airport'] \
             .index)

        # Window that will pop up to show the data
        graph_window()

        # Passing in column names, title and plot for the graph
        d1.display_graph('frequency_mhz', 'airport_ident', "Frequencies of Small Airports"
                         , plt.plot)

    def display_graph(self, column_y, column_x, title, plot_type):
        # Previously manipulated data using Pandas is collated into a graph
        # Passing data into the columns
        x = self.df_small_results[column_x]
        y = self.df_small_results[column_y]

        # Creates blue line graph
        plt.ylabel(column_y)
        plt.xlabel(column_x)
        plot_type(x, y, color="#0000FF")
        plt.margins(x=0)
        plt.title(title, fontsize=16)


def graph_window():
    window = Tk()

    window.title('Data')

    figure = plt.figure(figsize=(65, 5), dpi=100)
    canvas = FigureCanvasTkAgg(figure, window)
    canvas.draw()
    canvas.get_tk_widget().pack()
    toolbar = NavigationToolbar2Tk(canvas, window)
    toolbar.update()
    canvas._tkcanvas.pack()


def get_file_from_user():
    root.filename = filedialog.askopenfilename()
    filename = os.path.basename(root.filename)

    return filename


def read_file(filename):

    info(f"Uploading {filename}, please wait...")
    na_value = ["na", "NA", "--", "."]

    if filename == "airports.csv":
        usecols = [1, 2, 8]
    if filename == "airport-frequencies.csv":
        usecols = [2, 5]

    try:
        df = pd.read_csv(filename, sep=",",
                         index_col=None,
                         usecols=usecols,
                         na_values=na_value,
                         skip_blank_lines=True)

        label_file["text"] = filename

    except ValueError:
        error("Invalid")
        return None
    except FileNotFoundError:
        error(f"{filename} not found")

    return df


def save_to_mongo(df, collection_name):

    info("Saving your dataset...")
    db = connect_to_mongo('localhost', 27017)['airports']

    collection = db[collection_name]

    collection_list = db.list_collection_names()
    if collection_name in collection_list:
        error(f"{collection_name} is already saved")


def connect_to_mongo(host, port):
    # Mongo connection

    try:
        client = MongoClient(host, port)
        print("\n Successful connection \n")
    except ConnectionFailure:
        error("Failed to save")
        print("Failed connection\n")

    return client


def display_tree(df, tree):
    # Allows for user to see data in GUI using pandas.

    tree.delete(*tree.get_children())

    tree["column"] = list(df.columns)

    tree["show"] = "heading"

    for column in tree["column"]:
        tree.heading(column, text=column)

    df_rows = df.to_numpy().tolist()

    for row in df_rows:
        tree.insert("", "end", values=row)


def error(text):
    messagebox.showerror("Errors", text)


def info(text):
    messagebox.showinfo("Information", text)


def enable_calculations():
    calc_select.entryconfig("calculations", state="normal")


def enable_graphs():
    calc_select.entryconfig("Graphs", state="normal")


def exit_application():
    message = messagebox.askquestion('Quit', 'Are you sure?', icon='warning')
    if message == 'yes':
        root.destroy()

d1 = DataManipulation()

open_items = Menu(menu, tearoff=0, activebackground='#8b0000')
graph_items.add_cascade(label="Open", menu=open_items)
graph_items.add_command(label="Exit", command=exit_application)

open_items.add_command(label="airports", command=lambda:
d1.airports_mongo())
open_items.add_command(label="frequencies", command=lambda:
d1.frequencies_mongo())

mean_list = Menu(menu, tearoff=0, activebackground='#8b0000')
median_list = Menu(menu, tearoff=0, activebackground='#8b0000')
mode_list = Menu(menu, tearoff=0, activebackground='#8b0000')

calculations_items.add_cascade(label="mean", menu=mean_list)
calculations_items.add_cascade(label="median", menu=median_list)
calculations_items.add_cascade(label="mode", menu=mode_list)

mean_list.add_command(label="large airports", command=lambda:
d1.mean_score_airports("large_airports"))
mean_list.add_command(label="frequency", command=lambda:
d1.mean_score_freq("frequency_mhz"))

median_list.add_command(label="large airport", command=lambda:
d1.median_score_airports("large_airports"))
median_list.add_command(label="frequency", command=lambda:
d1.median_score_freq("frequency_mhz"))


mode_list.add_command(label="large airport", command=lambda:
d1.mode_score_airports("large_airports"))
mode_list.add_command(label="frequency", command=lambda:
d1.mode_score_freq("frequency_mhz"))

graph_items.add_command(label="small_airport/frequency", command=lambda:
d1.small_airports_against_frequency())

graph_items.add_command(label="Compare airport frequencies", command=lambda:
d1.all_airports_against_frequency())

button1 = Button(file_frame, text="Import airports file", bg=
"#8b0000", fg="white",
                 command=lambda: d1.import_airports())
button1.place(rely=0.45, relx=0.10)

button2 = Button(file_frame, text="Import Frequencies file", bg=
"#580000", fg="white",
                 command=lambda: d1.import_frequencies())
button2.place(rely=0.45, relx=0.60)


def main():
    root.mainloop()


if __name__ == "__main__":
    main()
